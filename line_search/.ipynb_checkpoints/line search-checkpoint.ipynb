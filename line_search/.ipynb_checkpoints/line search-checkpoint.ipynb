{
 "cells": [
  {
   "cell_type": "markdown",
   "id": "emerging-marker",
   "metadata": {},
   "source": [
    "# Line search methods\n",
    "\n",
    "\n",
    "Given a minimisation problem of an objective function $f(x): R^n -> R$, a line search method is a method in the form:\n",
    "\n",
    "$ x_{k+1} = x_k + \\alpha p_k$\n",
    "\n",
    "where $x_k$ is the current iteration of the solution, $p_k$ is the search direction and $alpha_k$ is the step length. \n",
    "\n",
    "The step lenght is calculated by solving a one-dimension minimisation problem. Let's consider the following case. We have computed the solution at iteration $k$ (namely $x_k$) and the search direction $p_k$. However we don't know how long to *walk* on this direction to minimise the objective function $f$. We need to minimise the following problem:\n",
    "\n",
    "$\\phi(\\alpha) = f(x_k + p_k) ;quad for \\alpha > 0$\n",
    "\n",
    "If the objective function is quadratic, it can be trivially be solved. However, generally this problem is too expensive to be solved exactly. We can provide an $/alpha$ for a sufficient decrease of $f$ using the backtracking algorithm.\n",
    "\n",
    "This notebook implements various line searh methods. Each method refers to a global variable `func` which implements the objective function as a class. To examples are given:\n",
    "\n",
    "1. A generic quadratic function\n",
    "1. The rosenbrock function\n",
    "\n",
    "Depending on the method, the class is supposed to have the methods to evaluate the function, its gradient and the hessian."
   ]
  },
  {
   "cell_type": "code",
   "execution_count": null,
   "id": "separated-headline",
   "metadata": {},
   "outputs": [],
   "source": [
    "import numpy as np\n",
    "from numpy import linalg"
   ]
  },
  {
   "cell_type": "code",
   "execution_count": 15,
   "id": "popular-elimination",
   "metadata": {},
   "outputs": [
    {
     "name": "stdout",
     "output_type": "stream",
     "text": [
      "Function evaluation:  0\n",
      "Gradient evaluation:  [0 0]\n"
     ]
    }
   ],
   "source": [
    "# TODO make a funnction class model to implement and override\n",
    "\n",
    "class rosenbrock:\n",
    "    def __init__(self, a, b):\n",
    "        self.a = a\n",
    "        self.b = b\n",
    "\n",
    "    def evaluate(self, x):\n",
    "        '''\n",
    "        Rosenbrock function R^n -> R\n",
    "        '''\n",
    "        return (self.a - x[0])**2 + (x[1] - x[0]**2)*self.b\n",
    "\n",
    "    def evaluate_gradient(self, x):\n",
    "        grad_0 = -4*self.b*x[0]*(x[1] - x[0]**2)+ 2*(x[0] - self.a)\n",
    "        grad_1 =  2*self.b*(x[1] - x[0]**2) \n",
    "        return np.array([grad_0, grad_1])\n",
    "\n",
    "sol = np.array([1, 1]) # the minimiser\n",
    "func  = rosenbrock(a=1, b=100)\n",
    "print('Function evaluation: ', func.evaluate(sol))\n",
    "print('Gradient evaluation: ', func.evaluate_gradient(sol))"
   ]
  },
  {
   "cell_type": "code",
   "execution_count": 21,
   "id": "swedish-exhibit",
   "metadata": {},
   "outputs": [
    {
     "name": "stdout",
     "output_type": "stream",
     "text": [
      "Function evaluation:  0\n",
      "Gradient evaluation:  [0 0]\n"
     ]
    }
   ],
   "source": [
    "class generic_function:\n",
    "    def __init__(self, a):\n",
    "        self.a = a\n",
    "\n",
    "    def evaluate(self, x):\n",
    "        return x[0]**2 + self.a * x[1]**2\n",
    "\n",
    "    def evaluate_gradient(self, x):\n",
    "        return np.array( [2*x[0], self.a *2* x[1] ] )\n",
    "\n",
    "    def evaluate_hessian(self, x):\n",
    "        return np.array([ [2, 0], [0, self.a *2]])\n",
    "\n",
    "sol = np.array([0, 0]) # the minimiser\n",
    "func = generic_function(a=10)\n",
    "print('Function evaluation: ', func.evaluate(sol))\n",
    "print('Gradient evaluation: ', func.evaluate_gradient(sol))"
   ]
  },
  {
   "cell_type": "markdown",
   "id": "preceding-delaware",
   "metadata": {},
   "source": [
    "# Steepest Descent\n",
    "\n",
    "The simplest line search method is steepest descent. In this case the matrix $B$ is the identity matrix and the direction $p$ is the negative gradient of the function."
   ]
  },
  {
   "cell_type": "code",
   "execution_count": 40,
   "id": "dated-candy",
   "metadata": {},
   "outputs": [
    {
     "name": "stdout",
     "output_type": "stream",
     "text": [
      "Numerica solution:  [3.97453734e-09 2.10838946e-11]\n"
     ]
    }
   ],
   "source": [
    "def  backtracking(x, p, c=0.7, rho=0.6, alpha=1)->int:\n",
    "    global func\n",
    "    while func.evaluate(x + alpha*p) >= func.evaluate(x) + c*alpha*np.dot(func.evaluate_gradient(x), p):\n",
    "        alpha *= rho\n",
    "    return alpha\n",
    "\n",
    "def steepest_descent(x_init, eps=10**-8, max_iter = 100):\n",
    "    global func\n",
    "    x_k = x_init\n",
    "    grad = func.evaluate_gradient(x_k)\n",
    "    iter = 0\n",
    "    while linalg.norm(grad) > eps and iter < max_iter: \n",
    "        p_k = -grad\n",
    "        alpha = backtracking(x_k, p_k) # todo\n",
    "        x_k = x_k + alpha*p_k\n",
    "        grad = func.evaluate_gradient(x_k)\n",
    "        iter += 1\n",
    "    return x_k\n",
    "\n",
    "in_point = np.random.rand(2)\n",
    "num_x = steepest_descent(in_point)\n",
    "print('Numerica solution: ', num_x)"
   ]
  },
  {
   "cell_type": "code",
   "execution_count": 41,
   "id": "historical-bryan",
   "metadata": {},
   "outputs": [],
   "source": [
    "# Convergence ratio of steepest descent\n",
    "#TODO"
   ]
  },
  {
   "cell_type": "markdown",
   "id": "motivated-titanium",
   "metadata": {},
   "source": [
    "# Newton method\n",
    "\n",
    "The Newton method employs second order information to speed up the convergence ratio of the steepest descent. The search direction $p_k$ is chosen as follows:\n",
    "\n",
    "$p_k = - H_k^{-1} g_k$\n",
    "\n",
    "where $H$ is the Hessian of the objective function and $g$ its gradient."
   ]
  },
  {
   "cell_type": "code",
   "execution_count": 45,
   "id": "challenging-creation",
   "metadata": {},
   "outputs": [
    {
     "name": "stdout",
     "output_type": "stream",
     "text": [
      "1\n",
      "[0. 0.]\n"
     ]
    }
   ],
   "source": [
    "\n",
    "def newton_method(x_init, eps=10**-3, max_iter = 100):\n",
    "    x_k = x_init\n",
    "    grad = func.evaluate_gradient(x_k)\n",
    "    hessian = func.evaluate_hessian(x_k)\n",
    "    iter = 0\n",
    "    while linalg.norm(grad) > eps and iter < max_iter: \n",
    "        # print(x_k)\n",
    "        x_k = x_k - linalg.inv(hessian) @ grad\n",
    "        grad = func.evaluate_gradient(x_k)\n",
    "        hessian = func.evaluate_hessian(x_k)\n",
    "        iter += 1\n",
    "    return x_k\n",
    "\n",
    "in_point = np.random.rand(2)\n",
    "num_x = newton_method(in_point)\n",
    "print(num_x)"
   ]
  },
  {
   "cell_type": "markdown",
   "id": "incorporate-bennett",
   "metadata": {},
   "source": [
    "# Convergence ratio of steepest descent\n",
    "# TODO\n",
    "Note that Newton methods converges exactly in one step for quadratic functions."
   ]
  },
  {
   "cell_type": "code",
   "execution_count": null,
   "id": "played-change",
   "metadata": {},
   "outputs": [],
   "source": []
  }
 ],
 "metadata": {
  "kernelspec": {
   "display_name": "Python 3",
   "language": "python",
   "name": "python3"
  },
  "language_info": {
   "codemirror_mode": {
    "name": "ipython",
    "version": 3
   },
   "file_extension": ".py",
   "mimetype": "text/x-python",
   "name": "python",
   "nbconvert_exporter": "python",
   "pygments_lexer": "ipython3",
   "version": "3.7.9"
  }
 },
 "nbformat": 4,
 "nbformat_minor": 5
}
