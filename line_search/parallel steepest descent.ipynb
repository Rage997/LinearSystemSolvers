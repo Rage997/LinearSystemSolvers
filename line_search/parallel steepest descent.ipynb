{
 "cells": [
  {
   "cell_type": "code",
   "execution_count": 1,
   "id": "wired-miller",
   "metadata": {},
   "outputs": [],
   "source": [
    "import numpy as np\n",
    "from numpy import linalg"
   ]
  },
  {
   "cell_type": "code",
   "execution_count": 2,
   "id": "stock-porcelain",
   "metadata": {},
   "outputs": [
    {
     "name": "stdout",
     "output_type": "stream",
     "text": [
      "Function evaluation:  0\n",
      "Gradient evaluation:  [0 0]\n"
     ]
    }
   ],
   "source": [
    "# TODO make a funnction class model to implement and override\n",
    "\n",
    "class rosenbrock:\n",
    "    def __init__(self, a, b):\n",
    "        self.a = a\n",
    "        self.b = b\n",
    "\n",
    "    def evaluate(self, x):\n",
    "        '''\n",
    "        Rosenbrock function R^n -> R\n",
    "        '''\n",
    "        return (self.a - x[0])**2 + (x[1] - x[0]**2)*self.b\n",
    "\n",
    "    def evaluate_gradient(self, x):\n",
    "        grad_0 = -4*self.b*x[0]*(x[1] - x[0]**2)+ 2*(x[0] - self.a)\n",
    "        grad_1 =  2*self.b*(x[1] - x[0]**2) \n",
    "        return np.array([grad_0, grad_1])\n",
    "\n",
    "sol = np.array([1, 1]) # the minimiser\n",
    "func  = rosenbrock(a=1, b=100)\n",
    "print('Function evaluation: ', func.evaluate(sol))\n",
    "print('Gradient evaluation: ', func.evaluate_gradient(sol))"
   ]
  },
  {
   "cell_type": "code",
   "execution_count": 3,
   "id": "corrected-button",
   "metadata": {},
   "outputs": [],
   "source": [
    "def sample_points(x: np.array, n: int, r: int):\n",
    "    '''Computes n points based on some distribution given a point in a radius r'''\n",
    "    grad = -func.evaluate_gradient(x)\n",
    "    points = []\n",
    "    for i in range(n):\n",
    "        \n",
    "        points += [ x * (-1)**i * np.random.rand(x.shape[0]) * r]\n",
    "    return np.array(points)\n",
    "\n",
    "# sample_points(np.array([10, 30]), 10, 5)"
   ]
  },
  {
   "cell_type": "code",
   "execution_count": 4,
   "id": "opponent-entrepreneur",
   "metadata": {},
   "outputs": [],
   "source": [
    "def  backtracking(x, p, c=0.7, rho=0.6, alpha=1)->int:\n",
    "    global func\n",
    "    while func.evaluate(x + alpha*p) >= func.evaluate(x) + c*alpha*np.dot(func.evaluate_gradient(x), p):\n",
    "        alpha *= rho\n",
    "        print(alpha)\n",
    "    return alpha\n",
    "\n",
    "def steepest_descent(x_init, eps=10**-8, max_iter = 100):\n",
    "    global func\n",
    "    x_k = x_init\n",
    "    grad = func.evaluate_gradient(x_k)\n",
    "    iter = 0\n",
    "    while linalg.norm(grad) > eps and iter < max_iter: \n",
    "        p_k = -grad\n",
    "        alpha = backtracking(x_k, p_k) # todo\n",
    "        x_k = x_k + alpha*p_k\n",
    "        grad = func.evaluate_gradient(x_k)\n",
    "        iter += 1\n",
    "    return x_k\n",
    "\n",
    "# in_point = np.random.rand(2)\n",
    "# num_x = steepest_descent(in_point)\n",
    "# print('Numerica solution: ', num_x)"
   ]
  },
  {
   "cell_type": "code",
   "execution_count": 12,
   "id": "indoor-medicine",
   "metadata": {},
   "outputs": [
    {
     "name": "stdout",
     "output_type": "stream",
     "text": [
      "The alphas for the points are:  [1, 1]\n"
     ]
    }
   ],
   "source": [
    "# Compute alphas for each point using as direction the gradient of first point\n",
    "init_point = np.array([2, 3])\n",
    "points = sample_points(init_point, 2, 5)\n",
    "search_direction = func.evaluate_gradient(init_point)\n",
    "\n",
    "alphas = []\n",
    "for pt in points:\n",
    "    pt_alpha = backtracking(pt, search_direction, alpha=1)\n",
    "    alphas.append(pt_alpha)\n",
    "    \n",
    "print('The alphas for the points are: ', alphas)"
   ]
  },
  {
   "cell_type": "code",
   "execution_count": null,
   "id": "adopted-tribe",
   "metadata": {},
   "outputs": [],
   "source": []
  }
 ],
 "metadata": {
  "kernelspec": {
   "display_name": "Python 3",
   "language": "python",
   "name": "python3"
  },
  "language_info": {
   "codemirror_mode": {
    "name": "ipython",
    "version": 3
   },
   "file_extension": ".py",
   "mimetype": "text/x-python",
   "name": "python",
   "nbconvert_exporter": "python",
   "pygments_lexer": "ipython3",
   "version": "3.7.9"
  }
 },
 "nbformat": 4,
 "nbformat_minor": 5
}
